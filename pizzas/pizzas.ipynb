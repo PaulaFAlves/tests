{
 "cells": [
  {
   "cell_type": "code",
   "execution_count": 1,
   "metadata": {},
   "outputs": [],
   "source": [
    "pizzas = ['marguerita', 'quatro queijo', 'escarola', 'portuguesa', 'frango', 'napolitana'] "
   ]
  },
  {
   "cell_type": "code",
   "execution_count": 10,
   "metadata": {},
   "outputs": [
    {
     "name": "stdout",
     "output_type": "stream",
     "text": [
      "Qual sua nota para a pizza de marguerita? 4\n",
      "Qual sua nota para a pizza de quatro queijo? \n",
      "Qual sua nota para a pizza de escarola? 4\n",
      "Qual sua nota para a pizza de portuguesa? 4\n",
      "Qual sua nota para a pizza de frango? 4\n",
      "Qual sua nota para a pizza de napolitana? 4\n"
     ]
    }
   ],
   "source": [
    "notas = []\n",
    "for item in pizzas:\n",
    "    notas.append(input('Qual sua nota para a pizza de {}? '.format(item)))"
   ]
  },
  {
   "cell_type": "code",
   "execution_count": null,
   "metadata": {},
   "outputs": [],
   "source": []
  }
 ],
 "metadata": {
  "kernelspec": {
   "display_name": "Python 3",
   "language": "python",
   "name": "python3"
  },
  "language_info": {
   "codemirror_mode": {
    "name": "ipython",
    "version": 3
   },
   "file_extension": ".py",
   "mimetype": "text/x-python",
   "name": "python",
   "nbconvert_exporter": "python",
   "pygments_lexer": "ipython3",
   "version": "3.7.4"
  }
 },
 "nbformat": 4,
 "nbformat_minor": 2
}
